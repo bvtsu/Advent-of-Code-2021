{
 "cells": [
  {
   "cell_type": "code",
   "execution_count": 55,
   "metadata": {},
   "outputs": [
    {
     "name": "stdout",
     "output_type": "stream",
     "text": [
      "1524750\n"
     ]
    }
   ],
   "source": [
    "# Challenge Day 2:\n",
    "#from typing import List\n",
    "import pandas as pd\n",
    "from functools import reduce\n",
    "\n",
    "\"\"\"\n",
    "Puzzle 1: Determine multiplicative product of final coordinates \n",
    "(horizontal, depth) for planned dive course\n",
    "\n",
    "Expected input format:\n",
    "forward X # increases the horizontal position by X units.\n",
    "down X # increases the depth by X units.\n",
    "up X # decreases the depth by X units.\n",
    "\n",
    "Method: set_coords() # takes pandas dataframe(), alternative: motif from 3.10\n",
    "1) Generate dataframe from input\n",
    "2) sum vals associated w/ string 'forward' -> h_pos # horizontal\n",
    "3) Subtract sums of vals associated w/ string 'down' from string 'up' -> d_pos # depth\n",
    "4) return tuple(h_pos, d_pos)\n",
    "*5) Multiply coords -> print to stdout\n",
    "\"\"\"\n",
    "def csv_to_coord_df(path: str) -> pd.DataFrame:\n",
    "    return(pd.read_csv(path, delim_whitespace=True, names=['Coord_type','Dist_unit'])) # 1)\n",
    "\n",
    "def df_to_coords(df: pd.DataFrame) -> (int, int):\n",
    "    aggregated_sum = df.groupby('Coord_type').sum() # sum all vals associated with each Coord_type string\n",
    "    h_pos = aggregated_sum.Dist_unit['forward'] # 2)\n",
    "    d_pos = aggregated_sum.Dist_unit['down'] - aggregated_sum.Dist_unit['up'] # 3)\n",
    "    return((h_pos, d_pos)) # 4)\n",
    "\n",
    "def coord_mul(incoords: (int, int)) -> int:\n",
    "    return(reduce(lambda x, y: x*y, incoords)) # 5) reduce to apply lambda mul to all eles\n",
    "\n",
    "input_df = csv_to_coord_df('Day-2-input.txt') # 1) input can be sys.argv[1]\n",
    "coords = df_to_coords(input_df) # 2-4)\n",
    "print(coord_mul(coords)) # 5"
   ]
  },
  {
   "cell_type": "code",
   "execution_count": 98,
   "metadata": {},
   "outputs": [
    {
     "name": "stdout",
     "output_type": "stream",
     "text": [
      "1592426537\n"
     ]
    }
   ],
   "source": [
    "import numpy as np\n",
    "from functools import reduce\n",
    "\n",
    "\"\"\"\n",
    "Puzzle 2: Determine multiplicative product of final coordinates \n",
    "(horizontal, depth) for planned dive course\n",
    "\n",
    "Expected input format:\n",
    "forward X # increases the horizontal by X units and depth by aim * X.\n",
    "down X # increases the aim by X units.\n",
    "up X # decreases the aim by X units.\n",
    "\n",
    "\n",
    "Method: set_coords() # takes pandas dataframe(), alternative: motif from 3.10\n",
    "1) Generate dataframe from input\n",
    "2) Set up counter for aim, d_pos, h_pos\n",
    "3) for loop through df rows\n",
    "4) if down/up, +/- units to aim\n",
    "5) if forward, + units to h_pos, + units*aim to d_pos\n",
    "6) return tuple(h_pos, d_pos)\n",
    "*7) Multiply coords -> print to stdout\n",
    "\"\"\"\n",
    "def csv_to_coord_df(path: str) -> pd.DataFrame:\n",
    "    return(pd.read_csv(path, delim_whitespace=True, names=['Coord_type','Dist_unit'])) # 1)\n",
    "\n",
    "def df_to_coords(df: pd.DataFrame) -> (int, int):\n",
    "    aim = 0 # 2)\n",
    "    h_pos = 0 # 2)\n",
    "    d_pos = 0 # 2)\n",
    "    for index, row in input_df.iterrows(): # 3) index is throwaway var\n",
    "        if row['Coord_type'] == 'down': # 4)\n",
    "            aim += row['Dist_unit']\n",
    "        elif row['Coord_type'] == 'up': # 4)\n",
    "            aim -= (row['Dist_unit'])\n",
    "        else: # 5)\n",
    "            d_pos += (aim * row['Dist_unit'])\n",
    "            h_pos += row['Dist_unit']\n",
    "    return((h_pos, d_pos)) # 6)\n",
    "\n",
    "def coord_mul(incoords: (int, int)) -> int:\n",
    "    return(reduce(lambda x, y: x*y, incoords)) # 7) reduce to apply lambda mul to all eles\n",
    "\n",
    "input_df = csv_to_coord_df('Day-2-input.txt') # 1) input can be sys.argv[1]\n",
    "coords = df_to_coords(input_df) # 2-6)\n",
    "print(coord_mul(coords)) # 7"
   ]
  },
  {
   "cell_type": "code",
   "execution_count": null,
   "metadata": {},
   "outputs": [],
   "source": []
  }
 ],
 "metadata": {
  "interpreter": {
   "hash": "daff8f55d46c22d548dcae1214942360c69b01b6ac87629cb546efe561150fa1"
  },
  "kernelspec": {
   "display_name": "Python 3.9.7 64-bit ('Daugherty': conda)",
   "language": "python",
   "name": "python3"
  },
  "language_info": {
   "name": "python",
   "version": "3.9.7"
  },
  "orig_nbformat": 4
 },
 "nbformat": 4,
 "nbformat_minor": 2
}
